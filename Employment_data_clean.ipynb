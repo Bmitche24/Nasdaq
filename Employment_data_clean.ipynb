{
 "cells": [
  {
   "cell_type": "code",
   "execution_count": 21,
   "metadata": {},
   "outputs": [],
   "source": [
    "# set dependencies\n",
    "import pandas as pd\n"
   ]
  },
  {
   "cell_type": "code",
   "execution_count": 28,
   "metadata": {},
   "outputs": [],
   "source": [
    "# read in csv\n",
    "employment_data_df = pd.read_csv(\"/Users/lucasludwig/Desktop/Nasdaq/EmploymentData.csv\")\n",
    "\n",
    "# convert date column to datetime\n",
    "employment_data_df['Date'] = pd.to_datetime(employment_data_df['Date'])\n",
    "\n",
    "# extract year from date column\n",
    "employment_data_df['Year'] = employment_data_df['Date'].dt.year\n",
    "\n",
    "# remove date column\n",
    "employment_data_df = employment_data_df.drop(columns=['Date'])\n",
    "\n",
    "# rename company column\n",
    "employment_data_df = employment_data_df.rename(columns={'Company ': 'Company'})\n",
    "\n",
    "# set index to company\n",
    "employment_data_df = employment_data_df.set_index('Company')\n",
    "\n",
    "# move year column to the left\n",
    "cols = list(employment_data_df.columns)\n",
    "cols = [cols[-1]] + cols[:-1]\n",
    "employment_data_df = employment_data_df[cols]\n",
    "\n",
    "# remove rows with years before 2013\n",
    "employment_data_df = employment_data_df.loc[employment_data_df['Year'] >= 2013]\n",
    "employment_data_df\n",
    "\n",
    "# export to csv\n",
    "employment_data_df.to_csv(\"/Users/lucasludwig/Desktop/Nasdaq/EmploymentDataClean.csv\")\n",
    "\n",
    "\n",
    "\n"
   ]
  }
 ],
 "metadata": {
  "kernelspec": {
   "display_name": "Python 3",
   "language": "python",
   "name": "python3"
  },
  "language_info": {
   "codemirror_mode": {
    "name": "ipython",
    "version": 3
   },
   "file_extension": ".py",
   "mimetype": "text/x-python",
   "name": "python",
   "nbconvert_exporter": "python",
   "pygments_lexer": "ipython3",
   "version": "3.11.2"
  },
  "orig_nbformat": 4
 },
 "nbformat": 4,
 "nbformat_minor": 2
}
