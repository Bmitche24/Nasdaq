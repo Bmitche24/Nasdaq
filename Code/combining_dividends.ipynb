{
 "cells": [
  {
   "cell_type": "code",
   "execution_count": 1,
   "metadata": {},
   "outputs": [],
   "source": [
    "# set dependencies\n",
    "import pandas as pd"
   ]
  },
  {
   "cell_type": "code",
   "execution_count": 2,
   "metadata": {},
   "outputs": [],
   "source": [
    "# read in csv files\n",
    "aapl_df = pd.read_csv('/Users/lucasludwig/Desktop/Nasdaq/aapl-dividend-history.csv')\n",
    "ibm_df = pd.read_csv('/Users/lucasludwig/Desktop/Nasdaq/ibm-dividend-history.csv')\n",
    "msft_df = pd.read_csv('/Users/lucasludwig/Desktop/Nasdaq/msft-dividend-history.csv')"
   ]
  },
  {
   "cell_type": "code",
   "execution_count": 7,
   "metadata": {},
   "outputs": [],
   "source": [
    "# create a new column for company name\n",
    "aapl_df['Company'] = 'Apple'\n",
    "ibm_df['Company'] = 'IBM'\n",
    "msft_df['Company'] = 'Microsoft'\n",
    "\n",
    "# combine dataframes\n",
    "combined_df = pd.concat([aapl_df, ibm_df, msft_df])\n",
    "\n",
    "# make the company column the index\n",
    "combined_df = combined_df.set_index('Company')\n",
    "\n",
    "# drop the record date column and the pay date column\n",
    "combined_df = combined_df.drop(columns=['Record Date', 'Pay Date'])\n",
    "\n",
    "# rename the columns\n",
    "combined_df = combined_df.rename(columns={'Ex-Dividend Date': 'Dividend Date', 'Cash Amount': 'Dividend'})\n",
    "\n",
    "# save the dataframe to a csv file\n",
    "combined_df.to_csv('/Users/lucasludwig/Desktop/Nasdaq/combined-dividend-history.csv')\n",
    "\n"
   ]
  }
 ],
 "metadata": {
  "kernelspec": {
   "display_name": "Python 3",
   "language": "python",
   "name": "python3"
  },
  "language_info": {
   "codemirror_mode": {
    "name": "ipython",
    "version": 3
   },
   "file_extension": ".py",
   "mimetype": "text/x-python",
   "name": "python",
   "nbconvert_exporter": "python",
   "pygments_lexer": "ipython3",
   "version": "3.11.2"
  },
  "orig_nbformat": 4
 },
 "nbformat": 4,
 "nbformat_minor": 2
}
