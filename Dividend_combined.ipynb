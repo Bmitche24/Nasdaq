{
 "cells": [
  {
   "cell_type": "code",
   "execution_count": 1,
   "metadata": {},
   "outputs": [],
   "source": [
    "# set dependencies\n",
    "import pandas as pd\n",
    "import datetime"
   ]
  },
  {
   "cell_type": "code",
   "execution_count": 2,
   "metadata": {},
   "outputs": [],
   "source": [
    "# read in csv file\n",
    "df = pd.read_csv(\"/Users/lucasludwig/Desktop/Nasdaq/combined-dividend-history.csv\")"
   ]
  },
  {
   "cell_type": "code",
   "execution_count": 3,
   "metadata": {},
   "outputs": [],
   "source": [
    "# remove the date from the date column leaving only the year\n",
    "df['Dividend Date'] = pd.to_datetime(df['Dividend Date']).dt.year\n",
    "\n",
    "# rename the dividend date column to dividend year\n",
    "df = df.rename(columns={'Dividend Date': 'Year'})\n",
    "\n",
    "# group the dataframe by ticker and dividend year and sum the dividend amount\n",
    "df = df.groupby(['Company', 'Year']).sum()\n",
    "df\n",
    "# save the dataframe to a csv file\n",
    "df.to_csv(\"/Users/lucasludwig/Desktop/Nasdaq/DividendHistoryClean.csv\")\n",
    "\n"
   ]
  }
 ],
 "metadata": {
  "kernelspec": {
   "display_name": "Python 3",
   "language": "python",
   "name": "python3"
  },
  "language_info": {
   "codemirror_mode": {
    "name": "ipython",
    "version": 3
   },
   "file_extension": ".py",
   "mimetype": "text/x-python",
   "name": "python",
   "nbconvert_exporter": "python",
   "pygments_lexer": "ipython3",
   "version": "3.11.2"
  },
  "orig_nbformat": 4
 },
 "nbformat": 4,
 "nbformat_minor": 2
}
